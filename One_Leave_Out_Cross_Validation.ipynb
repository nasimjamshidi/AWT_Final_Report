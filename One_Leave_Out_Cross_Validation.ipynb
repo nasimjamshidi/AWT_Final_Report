{
 "cells": [
  {
   "cell_type": "code",
   "execution_count": 49,
   "metadata": {},
   "outputs": [],
   "source": [
    "import pandas as pd\n",
    "import numpy as np\n",
    "import matplotlib.pyplot as plt\n",
    "from matplotlib.pyplot import figure\n",
    "import  math\n",
    "from sklearn.model_selection import cross_validate,train_test_split\n",
    "from sklearn import preprocessing, svm\n",
    "from sklearn.linear_model import LinearRegression\n",
    "from sklearn.metrics import mean_squared_error as MSE\n",
    "from math import sqrt\n",
    "import sys\n",
    "from numpy import genfromtxt\n",
    "from sklearn.cluster import DBSCAN\n",
    "from sklearn.ensemble import RandomForestRegressor\n",
    "from __future__ import division\n",
    "from scipy.stats import pearsonr\n",
    "from sklearn.metrics import explained_variance_score\n",
    "import xgboost\n",
    "import math\n",
    "import xgboost\n",
    "import warnings\n",
    "warnings.filterwarnings(\"ignore\")\n"
   ]
  },
  {
   "cell_type": "markdown",
   "metadata": {},
   "source": [
    "##### Read the data"
   ]
  },
  {
   "cell_type": "code",
   "execution_count": 50,
   "metadata": {},
   "outputs": [],
   "source": [
    "encode = pd.read_csv(\"encode.csv\")\n",
    "clip = pd.read_csv(\"clip.csv\") \n",
    "scenechange = pd.read_csv(\"scene_change.csv\") "
   ]
  },
  {
   "cell_type": "markdown",
   "metadata": {},
   "source": [
    "##### Add prefix to distinguish the tables after merging "
   ]
  },
  {
   "cell_type": "code",
   "execution_count": 51,
   "metadata": {},
   "outputs": [],
   "source": [
    "clip=clip.add_prefix('clip_')"
   ]
  },
  {
   "cell_type": "code",
   "execution_count": 52,
   "metadata": {},
   "outputs": [],
   "source": [
    "scene_df = pd.DataFrame(columns=['clip_id','averagescenechange'])"
   ]
  },
  {
   "cell_type": "markdown",
   "metadata": {},
   "source": [
    "##### Calculate scene change percentage in one second"
   ]
  },
  {
   "cell_type": "code",
   "execution_count": 53,
   "metadata": {},
   "outputs": [],
   "source": [
    "scenechange = scenechange[~scenechange['clip_id'].isnull()]\n",
    "clip_id = scenechange['clip_id'].unique()\n",
    "j = 0;\n",
    "for i in clip_id:\n",
    "    j = j + 1;\n",
    "    scene_df.loc[j] = [i , np.sum(scenechange[scenechange['clip_id']==i]['percentage'])]"
   ]
  },
  {
   "cell_type": "markdown",
   "metadata": {},
   "source": [
    "##### Get the last part of the names in 'clip_filename' for simplification "
   ]
  },
  {
   "cell_type": "code",
   "execution_count": 54,
   "metadata": {},
   "outputs": [],
   "source": [
    "clip= clip.dropna(subset=['clip_filename'])\n",
    "size=clip['clip_filename'].shape[0]\n",
    "for i in range(size):\n",
    "    txt=clip['clip_filename'][i]\n",
    "    out = txt.split(\"/\")\n",
    "    clip['clip_filename'][i]=out[-1]"
   ]
  },
  {
   "cell_type": "markdown",
   "metadata": {},
   "source": [
    "##### Change the form of values from fractional to integer in 'clip_frame_rate' "
   ]
  },
  {
   "cell_type": "code",
   "execution_count": 55,
   "metadata": {},
   "outputs": [],
   "source": [
    "size=clip['clip_frame_rate'].shape[0]\n",
    "for i in range(size):\n",
    "    txt=clip['clip_frame_rate'][i]\n",
    "    out = txt.split(\"/\")\n",
    "    clip['clip_frame_rate'][i]=float(out[0])/float(out[1])\n",
    "#clip.head()"
   ]
  },
  {
   "cell_type": "markdown",
   "metadata": {},
   "source": [
    "##### Add prefix to distinguish the tables after merging "
   ]
  },
  {
   "cell_type": "code",
   "execution_count": 39,
   "metadata": {},
   "outputs": [],
   "source": [
    "encode=encode.add_prefix('encode_')\n",
    "#encode.head()"
   ]
  },
  {
   "cell_type": "markdown",
   "metadata": {},
   "source": [
    "##### Merge the tables Clip, Encode and Scene change\n"
   ]
  },
  {
   "cell_type": "code",
   "execution_count": 10,
   "metadata": {},
   "outputs": [],
   "source": [
    "encode_clip=encode.merge(clip, left_on='encode_clip_id', right_on='clip_id',how='left')\n",
    "encode_clip_scene = encode_clip.merge(scene_df,left_on='clip_id', right_on='clip_id',how='left')"
   ]
  },
  {
   "cell_type": "markdown",
   "metadata": {},
   "source": [
    "##### Calculate the resolution, width times hight "
   ]
  },
  {
   "cell_type": "code",
   "execution_count": 11,
   "metadata": {},
   "outputs": [],
   "source": [
    "encode_WidthHeight= encode_clip_scene['encode_width']*encode_clip_scene['encode_height']"
   ]
  },
  {
   "cell_type": "markdown",
   "metadata": {},
   "source": [
    "##### As the clips duration are not the same, by dividing the 'averagescenechange' by 'clip_duration', the average scenechange for one second is calculated  "
   ]
  },
  {
   "cell_type": "code",
   "execution_count": 12,
   "metadata": {},
   "outputs": [],
   "source": [
    "scenechange_avg= encode_clip_scene['averagescenechange']/encode_clip_scene['clip_duration']"
   ]
  },
  {
   "cell_type": "markdown",
   "metadata": {},
   "source": [
    "##### Select the desired features from the merged tables "
   ]
  },
  {
   "cell_type": "code",
   "execution_count": 13,
   "metadata": {},
   "outputs": [
    {
     "data": {
      "text/html": [
       "<div>\n",
       "<style scoped>\n",
       "    .dataframe tbody tr th:only-of-type {\n",
       "        vertical-align: middle;\n",
       "    }\n",
       "\n",
       "    .dataframe tbody tr th {\n",
       "        vertical-align: top;\n",
       "    }\n",
       "\n",
       "    .dataframe thead th {\n",
       "        text-align: right;\n",
       "    }\n",
       "</style>\n",
       "<table border=\"1\" class=\"dataframe\">\n",
       "  <thead>\n",
       "    <tr style=\"text-align: right;\">\n",
       "      <th></th>\n",
       "      <th>averagescenechange</th>\n",
       "      <th>clip_duration</th>\n",
       "      <th>clip_filename</th>\n",
       "      <th>clip_frame_rate</th>\n",
       "      <th>clip_height</th>\n",
       "      <th>clip_size</th>\n",
       "      <th>encode_WidthHeight</th>\n",
       "      <th>encode_bitrate_video</th>\n",
       "      <th>encode_crf</th>\n",
       "      <th>clip_width</th>\n",
       "      <th>encode_vmaf</th>\n",
       "    </tr>\n",
       "  </thead>\n",
       "  <tbody>\n",
       "    <tr>\n",
       "      <th>133</th>\n",
       "      <td>0.710526</td>\n",
       "      <td>19</td>\n",
       "      <td>aspen_1080p_crf5.mp4</td>\n",
       "      <td>29.97</td>\n",
       "      <td>1080</td>\n",
       "      <td>378608416</td>\n",
       "      <td>2073600</td>\n",
       "      <td>31965055.0</td>\n",
       "      <td>18</td>\n",
       "      <td>1920</td>\n",
       "      <td>96.812706</td>\n",
       "    </tr>\n",
       "    <tr>\n",
       "      <th>134</th>\n",
       "      <td>0.710526</td>\n",
       "      <td>19</td>\n",
       "      <td>aspen_1080p_crf5.mp4</td>\n",
       "      <td>29.97</td>\n",
       "      <td>1080</td>\n",
       "      <td>378608416</td>\n",
       "      <td>2073600</td>\n",
       "      <td>26317390.0</td>\n",
       "      <td>19</td>\n",
       "      <td>1920</td>\n",
       "      <td>96.012268</td>\n",
       "    </tr>\n",
       "    <tr>\n",
       "      <th>135</th>\n",
       "      <td>0.710526</td>\n",
       "      <td>19</td>\n",
       "      <td>aspen_1080p_crf5.mp4</td>\n",
       "      <td>29.97</td>\n",
       "      <td>1080</td>\n",
       "      <td>378608416</td>\n",
       "      <td>2073600</td>\n",
       "      <td>21645223.0</td>\n",
       "      <td>20</td>\n",
       "      <td>1920</td>\n",
       "      <td>95.102669</td>\n",
       "    </tr>\n",
       "    <tr>\n",
       "      <th>136</th>\n",
       "      <td>0.710526</td>\n",
       "      <td>19</td>\n",
       "      <td>aspen_1080p_crf5.mp4</td>\n",
       "      <td>29.97</td>\n",
       "      <td>1080</td>\n",
       "      <td>378608416</td>\n",
       "      <td>2073600</td>\n",
       "      <td>12617049.0</td>\n",
       "      <td>23</td>\n",
       "      <td>1920</td>\n",
       "      <td>91.863864</td>\n",
       "    </tr>\n",
       "    <tr>\n",
       "      <th>137</th>\n",
       "      <td>0.710526</td>\n",
       "      <td>19</td>\n",
       "      <td>aspen_1080p_crf5.mp4</td>\n",
       "      <td>29.97</td>\n",
       "      <td>1080</td>\n",
       "      <td>378608416</td>\n",
       "      <td>2073600</td>\n",
       "      <td>9134862.0</td>\n",
       "      <td>25</td>\n",
       "      <td>1920</td>\n",
       "      <td>89.166648</td>\n",
       "    </tr>\n",
       "  </tbody>\n",
       "</table>\n",
       "</div>"
      ],
      "text/plain": [
       "     averagescenechange  clip_duration         clip_filename clip_frame_rate  \\\n",
       "133            0.710526             19  aspen_1080p_crf5.mp4           29.97   \n",
       "134            0.710526             19  aspen_1080p_crf5.mp4           29.97   \n",
       "135            0.710526             19  aspen_1080p_crf5.mp4           29.97   \n",
       "136            0.710526             19  aspen_1080p_crf5.mp4           29.97   \n",
       "137            0.710526             19  aspen_1080p_crf5.mp4           29.97   \n",
       "\n",
       "     clip_height  clip_size  encode_WidthHeight  encode_bitrate_video  \\\n",
       "133         1080  378608416             2073600            31965055.0   \n",
       "134         1080  378608416             2073600            26317390.0   \n",
       "135         1080  378608416             2073600            21645223.0   \n",
       "136         1080  378608416             2073600            12617049.0   \n",
       "137         1080  378608416             2073600             9134862.0   \n",
       "\n",
       "     encode_crf  clip_width  encode_vmaf  \n",
       "133          18        1920    96.812706  \n",
       "134          19        1920    96.012268  \n",
       "135          20        1920    95.102669  \n",
       "136          23        1920    91.863864  \n",
       "137          25        1920    89.166648  "
      ]
     },
     "execution_count": 13,
     "metadata": {},
     "output_type": "execute_result"
    }
   ],
   "source": [
    "df=pd.DataFrame({'averagescenechange': scenechange_avg,'clip_duration': encode_clip_scene['clip_duration'], 'clip_filename':encode_clip_scene['clip_filename'],'clip_frame_rate':encode_clip_scene['clip_frame_rate'], 'clip_height': encode_clip_scene['clip_height'], 'clip_size': encode_clip_scene['clip_size'], 'encode_WidthHeight': encode_WidthHeight,'encode_bitrate_video': encode_clip_scene['encode_bitrate_video'], 'encode_crf': encode_clip_scene['encode_crf'], 'clip_width' : encode_clip_scene['clip_width'],  'encode_vmaf': encode_clip_scene['encode_vmaf']})\n",
    "df.dropna(inplace=True)\n",
    "df.head()"
   ]
  },
  {
   "cell_type": "markdown",
   "metadata": {},
   "source": [
    "##### Apply the method ITU-T P.1401 on 'encode_bitrate_video' to remove the extreme outliers"
   ]
  },
  {
   "cell_type": "code",
   "execution_count": 15,
   "metadata": {},
   "outputs": [
    {
     "data": {
      "text/html": [
       "<div>\n",
       "<style scoped>\n",
       "    .dataframe tbody tr th:only-of-type {\n",
       "        vertical-align: middle;\n",
       "    }\n",
       "\n",
       "    .dataframe tbody tr th {\n",
       "        vertical-align: top;\n",
       "    }\n",
       "\n",
       "    .dataframe thead th {\n",
       "        text-align: right;\n",
       "    }\n",
       "</style>\n",
       "<table border=\"1\" class=\"dataframe\">\n",
       "  <thead>\n",
       "    <tr style=\"text-align: right;\">\n",
       "      <th></th>\n",
       "      <th>averagescenechange</th>\n",
       "      <th>clip_duration</th>\n",
       "      <th>clip_filename</th>\n",
       "      <th>clip_frame_rate</th>\n",
       "      <th>clip_height</th>\n",
       "      <th>clip_size</th>\n",
       "      <th>encode_WidthHeight</th>\n",
       "      <th>encode_bitrate_video</th>\n",
       "      <th>encode_crf</th>\n",
       "      <th>clip_width</th>\n",
       "      <th>encode_vmaf</th>\n",
       "    </tr>\n",
       "  </thead>\n",
       "  <tbody>\n",
       "    <tr>\n",
       "      <th>146</th>\n",
       "      <td>0.710526</td>\n",
       "      <td>19</td>\n",
       "      <td>aspen_1080p_crf5.mp4</td>\n",
       "      <td>29.97</td>\n",
       "      <td>1080</td>\n",
       "      <td>378608416</td>\n",
       "      <td>2073600</td>\n",
       "      <td>1754686.0</td>\n",
       "      <td>37</td>\n",
       "      <td>1920</td>\n",
       "      <td>56.769344</td>\n",
       "    </tr>\n",
       "    <tr>\n",
       "      <th>147</th>\n",
       "      <td>0.710526</td>\n",
       "      <td>19</td>\n",
       "      <td>aspen_1080p_crf5.mp4</td>\n",
       "      <td>29.97</td>\n",
       "      <td>1080</td>\n",
       "      <td>378608416</td>\n",
       "      <td>2073600</td>\n",
       "      <td>1218860.0</td>\n",
       "      <td>40</td>\n",
       "      <td>1920</td>\n",
       "      <td>45.265158</td>\n",
       "    </tr>\n",
       "    <tr>\n",
       "      <th>148</th>\n",
       "      <td>0.710526</td>\n",
       "      <td>19</td>\n",
       "      <td>aspen_1080p_crf5.mp4</td>\n",
       "      <td>29.97</td>\n",
       "      <td>1080</td>\n",
       "      <td>378608416</td>\n",
       "      <td>2073600</td>\n",
       "      <td>860291.0</td>\n",
       "      <td>43</td>\n",
       "      <td>1920</td>\n",
       "      <td>33.766199</td>\n",
       "    </tr>\n",
       "    <tr>\n",
       "      <th>149</th>\n",
       "      <td>0.710526</td>\n",
       "      <td>19</td>\n",
       "      <td>aspen_1080p_crf5.mp4</td>\n",
       "      <td>29.97</td>\n",
       "      <td>1080</td>\n",
       "      <td>378608416</td>\n",
       "      <td>2073600</td>\n",
       "      <td>678211.0</td>\n",
       "      <td>45</td>\n",
       "      <td>1920</td>\n",
       "      <td>26.760924</td>\n",
       "    </tr>\n",
       "    <tr>\n",
       "      <th>150</th>\n",
       "      <td>0.710526</td>\n",
       "      <td>19</td>\n",
       "      <td>aspen_1080p_crf5.mp4</td>\n",
       "      <td>29.97</td>\n",
       "      <td>1080</td>\n",
       "      <td>378608416</td>\n",
       "      <td>2073600</td>\n",
       "      <td>372258.0</td>\n",
       "      <td>50</td>\n",
       "      <td>1920</td>\n",
       "      <td>11.814692</td>\n",
       "    </tr>\n",
       "  </tbody>\n",
       "</table>\n",
       "</div>"
      ],
      "text/plain": [
       "     averagescenechange  clip_duration         clip_filename clip_frame_rate  \\\n",
       "146            0.710526             19  aspen_1080p_crf5.mp4           29.97   \n",
       "147            0.710526             19  aspen_1080p_crf5.mp4           29.97   \n",
       "148            0.710526             19  aspen_1080p_crf5.mp4           29.97   \n",
       "149            0.710526             19  aspen_1080p_crf5.mp4           29.97   \n",
       "150            0.710526             19  aspen_1080p_crf5.mp4           29.97   \n",
       "\n",
       "     clip_height  clip_size  encode_WidthHeight  encode_bitrate_video  \\\n",
       "146         1080  378608416             2073600             1754686.0   \n",
       "147         1080  378608416             2073600             1218860.0   \n",
       "148         1080  378608416             2073600              860291.0   \n",
       "149         1080  378608416             2073600              678211.0   \n",
       "150         1080  378608416             2073600              372258.0   \n",
       "\n",
       "     encode_crf  clip_width  encode_vmaf  \n",
       "146          37        1920    56.769344  \n",
       "147          40        1920    45.265158  \n",
       "148          43        1920    33.766199  \n",
       "149          45        1920    26.760924  \n",
       "150          50        1920    11.814692  "
      ]
     },
     "execution_count": 15,
     "metadata": {},
     "output_type": "execute_result"
    }
   ],
   "source": [
    "shape=df['encode_bitrate_video'].shape[0]\n",
    "IQR=df['encode_bitrate_video'].describe()[6]-df['encode_bitrate_video'].describe()[4]\n",
    "IQR2=IQR*3\n",
    "threshold=df['encode_bitrate_video'].describe()[6]+IQR2\n",
    "for i in range(shape):\n",
    "    if(df.iloc[i, 7:8].values[0] >= threshold):\n",
    "        df.iloc[i, 7:8]=np.nan\n",
    "        #df.at[i, 3:4] = 0\n",
    "\n",
    "df.dropna(inplace=True)\n",
    "df.head()"
   ]
  },
  {
   "cell_type": "markdown",
   "metadata": {},
   "source": [
    "##### Apply the method ITU-T P.1401 on 'averagescenechange' to remove the extreme outliers "
   ]
  },
  {
   "cell_type": "code",
   "execution_count": 16,
   "metadata": {},
   "outputs": [
    {
     "data": {
      "text/plain": [
       "(4727, 11)"
      ]
     },
     "execution_count": 16,
     "metadata": {},
     "output_type": "execute_result"
    }
   ],
   "source": [
    "shape=df['averagescenechange'].shape[0]\n",
    "IQR=df['averagescenechange'].describe()[6]-df['averagescenechange'].describe()[4]\n",
    "IQR2=IQR*3\n",
    "threshold=df['averagescenechange'].describe()[6]+IQR2\n",
    "for i in range(shape):\n",
    "    if(df.iloc[i, 0:1].values[0] >= threshold):\n",
    "        df.iloc[i, 0:1]=np.nan\n",
    "        #df.at[i, 3:4] = 0\n",
    "\n",
    "df.dropna(inplace=True)\n",
    "df.shape"
   ]
  },
  {
   "cell_type": "markdown",
   "metadata": {},
   "source": [
    "##### Apply the method ITU-T P.1401 on 'clip_size' to remove the extreme outliers "
   ]
  },
  {
   "cell_type": "code",
   "execution_count": 17,
   "metadata": {},
   "outputs": [
    {
     "data": {
      "text/plain": [
       "(4409, 11)"
      ]
     },
     "execution_count": 17,
     "metadata": {},
     "output_type": "execute_result"
    }
   ],
   "source": [
    "# Apply the method ITU-T P.1401 to remove the extreme outliers(Using IQR(Interquartile Range)*3 instead of IQR*1.5)\n",
    "shape=df['clip_size'].shape[0]\n",
    "IQR=df['clip_size'].describe()[6]-df['clip_size'].describe()[4]\n",
    "IQR2=IQR*3\n",
    "threshold=df['clip_size'].describe()[6]+IQR2\n",
    "for i in range(shape):\n",
    "    if(df.iloc[i, 5:6].values[0] >= threshold):\n",
    "        df.iloc[i, 5:6]=np.nan\n",
    "        #df.at[i, 3:4] = 0\n",
    "\n",
    "df.dropna(inplace=True)\n",
    "df.shape"
   ]
  },
  {
   "cell_type": "markdown",
   "metadata": {},
   "source": [
    "##### Apply the method ITU-T P.1401 on 'clip_duration' to remove the extreme outliers "
   ]
  },
  {
   "cell_type": "code",
   "execution_count": 18,
   "metadata": {
    "scrolled": true
   },
   "outputs": [
    {
     "data": {
      "text/html": [
       "<div>\n",
       "<style scoped>\n",
       "    .dataframe tbody tr th:only-of-type {\n",
       "        vertical-align: middle;\n",
       "    }\n",
       "\n",
       "    .dataframe tbody tr th {\n",
       "        vertical-align: top;\n",
       "    }\n",
       "\n",
       "    .dataframe thead th {\n",
       "        text-align: right;\n",
       "    }\n",
       "</style>\n",
       "<table border=\"1\" class=\"dataframe\">\n",
       "  <thead>\n",
       "    <tr style=\"text-align: right;\">\n",
       "      <th></th>\n",
       "      <th>averagescenechange</th>\n",
       "      <th>clip_duration</th>\n",
       "      <th>clip_filename</th>\n",
       "      <th>clip_frame_rate</th>\n",
       "      <th>clip_height</th>\n",
       "      <th>clip_size</th>\n",
       "      <th>encode_WidthHeight</th>\n",
       "      <th>encode_bitrate_video</th>\n",
       "      <th>encode_crf</th>\n",
       "      <th>clip_width</th>\n",
       "      <th>encode_vmaf</th>\n",
       "    </tr>\n",
       "  </thead>\n",
       "  <tbody>\n",
       "    <tr>\n",
       "      <th>545</th>\n",
       "      <td>0.710526</td>\n",
       "      <td>19.0</td>\n",
       "      <td>aspen_1080p_crf10.mp4</td>\n",
       "      <td>29.97</td>\n",
       "      <td>1080</td>\n",
       "      <td>231039918.0</td>\n",
       "      <td>2073600</td>\n",
       "      <td>1753019.0</td>\n",
       "      <td>37</td>\n",
       "      <td>1920</td>\n",
       "      <td>56.929568</td>\n",
       "    </tr>\n",
       "    <tr>\n",
       "      <th>546</th>\n",
       "      <td>0.710526</td>\n",
       "      <td>19.0</td>\n",
       "      <td>aspen_1080p_crf10.mp4</td>\n",
       "      <td>29.97</td>\n",
       "      <td>1080</td>\n",
       "      <td>231039918.0</td>\n",
       "      <td>2073600</td>\n",
       "      <td>1215713.0</td>\n",
       "      <td>40</td>\n",
       "      <td>1920</td>\n",
       "      <td>45.382016</td>\n",
       "    </tr>\n",
       "    <tr>\n",
       "      <th>547</th>\n",
       "      <td>0.710526</td>\n",
       "      <td>19.0</td>\n",
       "      <td>aspen_1080p_crf10.mp4</td>\n",
       "      <td>29.97</td>\n",
       "      <td>1080</td>\n",
       "      <td>231039918.0</td>\n",
       "      <td>2073600</td>\n",
       "      <td>859852.0</td>\n",
       "      <td>43</td>\n",
       "      <td>1920</td>\n",
       "      <td>33.900708</td>\n",
       "    </tr>\n",
       "    <tr>\n",
       "      <th>548</th>\n",
       "      <td>0.710526</td>\n",
       "      <td>19.0</td>\n",
       "      <td>aspen_1080p_crf10.mp4</td>\n",
       "      <td>29.97</td>\n",
       "      <td>1080</td>\n",
       "      <td>231039918.0</td>\n",
       "      <td>2073600</td>\n",
       "      <td>679391.0</td>\n",
       "      <td>45</td>\n",
       "      <td>1920</td>\n",
       "      <td>26.724971</td>\n",
       "    </tr>\n",
       "    <tr>\n",
       "      <th>549</th>\n",
       "      <td>0.710526</td>\n",
       "      <td>19.0</td>\n",
       "      <td>aspen_1080p_crf10.mp4</td>\n",
       "      <td>29.97</td>\n",
       "      <td>1080</td>\n",
       "      <td>231039918.0</td>\n",
       "      <td>2073600</td>\n",
       "      <td>370787.0</td>\n",
       "      <td>50</td>\n",
       "      <td>1920</td>\n",
       "      <td>11.386264</td>\n",
       "    </tr>\n",
       "  </tbody>\n",
       "</table>\n",
       "</div>"
      ],
      "text/plain": [
       "     averagescenechange  clip_duration          clip_filename clip_frame_rate  \\\n",
       "545            0.710526           19.0  aspen_1080p_crf10.mp4           29.97   \n",
       "546            0.710526           19.0  aspen_1080p_crf10.mp4           29.97   \n",
       "547            0.710526           19.0  aspen_1080p_crf10.mp4           29.97   \n",
       "548            0.710526           19.0  aspen_1080p_crf10.mp4           29.97   \n",
       "549            0.710526           19.0  aspen_1080p_crf10.mp4           29.97   \n",
       "\n",
       "     clip_height    clip_size  encode_WidthHeight  encode_bitrate_video  \\\n",
       "545         1080  231039918.0             2073600             1753019.0   \n",
       "546         1080  231039918.0             2073600             1215713.0   \n",
       "547         1080  231039918.0             2073600              859852.0   \n",
       "548         1080  231039918.0             2073600              679391.0   \n",
       "549         1080  231039918.0             2073600              370787.0   \n",
       "\n",
       "     encode_crf  clip_width  encode_vmaf  \n",
       "545          37        1920    56.929568  \n",
       "546          40        1920    45.382016  \n",
       "547          43        1920    33.900708  \n",
       "548          45        1920    26.724971  \n",
       "549          50        1920    11.386264  "
      ]
     },
     "execution_count": 18,
     "metadata": {},
     "output_type": "execute_result"
    }
   ],
   "source": [
    "# Apply the method ITU-T P.1401 to remove the extreme outliers(Using IQR(Interquartile Range)*3 instead of IQR*1.5)\n",
    "shape=df['clip_duration'].shape[0]\n",
    "IQR=df['clip_duration'].describe()[6]-df['clip_duration'].describe()[4]\n",
    "IQR2=IQR*3\n",
    "threshold=df['clip_duration'].describe()[6]+IQR2\n",
    "for i in range(shape):\n",
    "    if(df.iloc[i, 1:2].values[0] >= threshold):\n",
    "        df.iloc[i, 1:2]=np.nan\n",
    "        #df.at[i, 3:4] = 0\n",
    "\n",
    "df.dropna(inplace=True)\n",
    "df.head()"
   ]
  },
  {
   "cell_type": "markdown",
   "metadata": {},
   "source": [
    "##### Main loop to make one-hold-out cross validation"
   ]
  },
  {
   "cell_type": "code",
   "execution_count": 19,
   "metadata": {},
   "outputs": [],
   "source": [
    "ClipName = df['clip_filename'].unique()\n",
    "\n",
    "# Create two empty matrices for Confidence & Predicted values for all used models\n",
    "confidence_SVR = np.empty([ClipName.size])\n",
    "predict_SVR=np.empty([1])\n",
    "\n",
    "confidence_LiReg = np.empty([ClipName.size])\n",
    "predict_LiReg=np.empty([1])\n",
    "\n",
    "confidence_RF = np.empty([ClipName.size])\n",
    "predict_RF=np.empty([1])\n",
    "\n",
    "confidence_XGB = np.empty([ClipName.size])\n",
    "predict_XGB=np.empty([1])\n",
    "\n",
    "target_yTest = np.empty([1])\n",
    "target_XTest = np.empty([1,9])\n",
    "\n",
    "New_clip_filename=pd.DataFrame()\n",
    "Old_clip_filename=pd.DataFrame()\n",
    "\n",
    "for i in range(2):#ClipName.size:\n",
    "    df_test = df[df['clip_filename'].isin(ClipName[i:i+1])]\n",
    "    df_train = df[df['clip_filename'].isin(ClipName[i:i+1])==False]\n",
    "    Old_clip_filename = df_test['clip_filename']\n",
    "    \n",
    "    df_train = df_train.drop(['clip_filename'], axis=1);\n",
    "    df_test = df_test.drop(['clip_filename'], axis=1);\n",
    "    train_num = df_train.shape[0]\n",
    "    \n",
    "    # Splite the data into train and test set\n",
    "    X_train = np.array(df_train.drop(['encode_vmaf'], 1))\n",
    "    y_train = np.array(df_train['encode_vmaf'])\n",
    "    \n",
    "    X_test = np.array(df_test.drop(['encode_vmaf'], 1))\n",
    "    y_test = np.array(df_test['encode_vmaf'])\n",
    "    X_test_real = X_test;\n",
    "    \n",
    "    train_test = np.append(X_train,X_test,axis = 0)\n",
    "    train_test = preprocessing.scale(train_test)\n",
    "    \n",
    "    X_train = train_test[0:train_num,:]\n",
    "    X_test = train_test[train_num:,:]\n",
    "    \n",
    "# Create SVR model\n",
    "SVR = svm.SVR()\n",
    "SVR.fit(X_train, y_train)\n",
    "confidence_SVR[i] = SVR.score(X_test, y_test)\n",
    "temp_SVR= SVR.predict(X_test)\n",
    "predict_SVR = np.append(predict_SVR,temp_SVR)\n",
    "target_yTest = np.append(target_yTest,y_test)\n",
    "target_XTest = np.concatenate((target_XTest,X_test_real), 0) \n",
    "New_clip_filename =pd.concat([New_clip_filename, Old_clip_filename], axis=0)\n",
    "    \n",
    "# Create Linear Regression model\n",
    "LiReg = LinearRegression()\n",
    "LiReg.fit(X_train, y_train)\n",
    "confidence_LiReg[i] = LiReg.score(X_test, y_test)\n",
    "temp_LiReg=LiReg.predict(X_test)\n",
    "predict_LiReg= np.append(predict_LiReg,temp_LiReg)\n",
    "#target = np.append(target,y_test)\n",
    "#target = np.append(target,y_test)\n",
    "    \n",
    "# Create Random Forest model\n",
    "RF = RandomForestRegressor(n_estimators = 1000, random_state = 42)\n",
    "RF.fit(X_train, y_train)\n",
    "confidence_RF[i] = RF.score(X_test, y_test)\n",
    "temp_RF=RF.predict(X_test)\n",
    "predict_RF= np.append(predict_RF,temp_RF)\n",
    "#target = np.append(target,y_test)\n",
    "    \n",
    "# Create XGBoost model\n",
    "XGB = xgboost.XGBRegressor(n_estimators=100, learning_rate=0.08, gamma=0, subsample=0.75,\n",
    "                           colsample_bytree=1, max_depth=7)\n",
    "XGB.fit(X_train, y_train);\n",
    "confidence_XGB[i] = RF.score(X_test, y_test)\n",
    "temp_XGB=XGB.predict(X_test)\n",
    "predict_XGB= np.append(predict_XGB,temp_XGB)\n",
    "    "
   ]
  },
  {
   "cell_type": "markdown",
   "metadata": {},
   "source": [
    "##### Convert to DataFrame "
   ]
  },
  {
   "cell_type": "code",
   "execution_count": null,
   "metadata": {},
   "outputs": [],
   "source": [
    "target_yTest = pd.DataFrame(target_yTest)\n",
    "target_XTest = pd.DataFrame(target_XTest)\n",
    "predict_SVR = pd.DataFrame(predict_SVR)\n",
    "predict_LiReg = pd.DataFrame(predict_LiReg)\n",
    "predict_RF = pd.DataFrame(predict_RF)\n",
    "predict_XGB = pd.DataFrame(predict_XGB)"
   ]
  },
  {
   "cell_type": "markdown",
   "metadata": {},
   "source": [
    "##### Save the results as xlsx file "
   ]
  },
  {
   "cell_type": "code",
   "execution_count": null,
   "metadata": {},
   "outputs": [],
   "source": [
    "target_yTest.to_excel('target_yTest.xlsx');\n",
    "target_XTest.to_excel('target_XTest.xlsx');\n",
    "predict_SVR.to_excel('predict_SVR.xlsx');\n",
    "predict_LiReg.to_excel(' predict_LiReg.xlsx');\n",
    "predict_RF.to_excel('predict_RF.xlsx');\n",
    "predict_XGB.to_excel('predict_XGB.xlsx');\n",
    "New_clip_filename.to_excel('New_clip_filename.xlsx');"
   ]
  },
  {
   "cell_type": "markdown",
   "metadata": {},
   "source": [
    "##### Plot the predicted result made by SVR"
   ]
  },
  {
   "cell_type": "code",
   "execution_count": 21,
   "metadata": {},
   "outputs": [
    {
     "data": {
      "text/plain": [
       "<matplotlib.collections.PathCollection at 0x1699da99cf8>"
      ]
     },
     "execution_count": 21,
     "metadata": {},
     "output_type": "execute_result"
    },
    {
     "data": {
      "image/png": "[encoded data removed]",
      "text/plain": [
       "<Figure size 432x288 with 1 Axes>"
      ]
     },
     "metadata": {},
     "output_type": "display_data"
    }
   ],
   "source": [
    "plt.scatter(target_yTest,predict_SVR)"
   ]
  },
  {
   "cell_type": "markdown",
   "metadata": {},
   "source": [
    "##### Plot feature importance using built-in function "
   ]
  },
  {
   "cell_type": "code",
   "execution_count": 23,
   "metadata": {},
   "outputs": [
    {
     "data": {
      "image/png": "[encoded data removed]",
      "text/plain": [
       "<Figure size 432x288 with 1 Axes>"
      ]
     },
     "metadata": {},
     "output_type": "display_data"
    }
   ],
   "source": [
    "from numpy import loadtxt\n",
    "from xgboost import XGBClassifier\n",
    "from xgboost import plot_importance\n",
    "from matplotlib import pyplot\n",
    "plot_importance(XGB)\n",
    "pyplot.savefig('destination_path.pdf', format='pdf')\n",
    "pyplot.show()"
   ]
  },
  {
   "cell_type": "markdown",
   "metadata": {},
   "source": [
    "##### Rename the coloumn title"
   ]
  },
  {
   "cell_type": "code",
   "execution_count": 24,
   "metadata": {},
   "outputs": [],
   "source": [
    "New_clip_filename.rename(columns={0:'Filename'}, inplace=True)\n",
    "predict_LiReg.rename(columns={0:'Linear'}, inplace=True)\n",
    "\n",
    "predict_XGB.rename(columns={0:'XGB'}, inplace=True)\n",
    "predict_RF.rename(columns={0:'RF'}, inplace=True)\n",
    "\n",
    "predict_SVR.rename(columns={0:'SVR'}, inplace=True)\n",
    "target_yTest.rename(columns={0:'ActualVMAF'}, inplace=True)\n"
   ]
  },
  {
   "cell_type": "markdown",
   "metadata": {},
   "source": [
    "##### Save the results as csv file"
   ]
  },
  {
   "cell_type": "code",
   "execution_count": null,
   "metadata": {},
   "outputs": [],
   "source": [
    "target_yTest.to_csv('target_yTest.csv');\n",
    "target_XTest.to_csv('target_XTest.csv');\n",
    "predict_SVR.to_csv('predict_SVR.csv');\n",
    "predict_LiReg.to_csv(' predict_LiReg.csv');\n",
    "predict_RF.to_csv('predict_RF.csv');\n",
    "predict_XGB.to_csv('predict_XGB.csv');\n",
    "New_clip_filename.to_csv('New_clip_filename.csv');"
   ]
  }
 ],
 "metadata": {
  "kernelspec": {
   "display_name": "Python 3",
   "language": "python",
   "name": "python3"
  },
  "language_info": {
   "codemirror_mode": {
    "name": "ipython",
    "version": 3
   },
   "file_extension": ".py",
   "mimetype": "text/x-python",
   "name": "python",
   "nbconvert_exporter": "python",
   "pygments_lexer": "ipython3",
   "version": "3.7.4"
  }
 },
 "nbformat": 4,
 "nbformat_minor": 2
}
